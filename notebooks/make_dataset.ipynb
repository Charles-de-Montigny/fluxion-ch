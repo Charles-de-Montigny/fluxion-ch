{
 "cells": [
  {
   "cell_type": "markdown",
   "metadata": {},
   "source": [
    "# Make Dataset"
   ]
  },
  {
   "cell_type": "code",
   "execution_count": 1,
   "metadata": {},
   "outputs": [],
   "source": [
    "from pathlib import Path\n",
    "\n",
    "import pandas as pd\n",
    "import seaborn as sns\n",
    "\n",
    "from src.utils import read_json\n",
    "from src.dataset import concat_dataset, shooting_score\n",
    "\n",
    "DATA_PATH = Path(\"../data/\")"
   ]
  },
  {
   "cell_type": "code",
   "execution_count": 2,
   "metadata": {},
   "outputs": [],
   "source": [
    "players = read_json(\"../config/players.json\")"
   ]
  },
  {
   "cell_type": "code",
   "execution_count": 3,
   "metadata": {},
   "outputs": [
    {
     "name": "stdout",
     "output_type": "stream",
     "text": [
      "Data year: 2016\n",
      "Data year: 2017\n",
      "Data year: 2018\n",
      "Data year: 2019\n",
      "Data year: 2020\n"
     ]
    },
    {
     "name": "stderr",
     "output_type": "stream",
     "text": [
      "/Users/charlesdemontigny/Documents/ds-coach-nhl/venv/lib/python3.9/site-packages/pandas/util/_decorators.py:311: SettingWithCopyWarning: \n",
      "A value is trying to be set on a copy of a slice from a DataFrame\n",
      "\n",
      "See the caveats in the documentation: https://pandas.pydata.org/pandas-docs/stable/user_guide/indexing.html#returning-a-view-versus-a-copy\n",
      "  return func(*args, **kwargs)\n"
     ]
    }
   ],
   "source": [
    "skaters = make_dataset(DATA_PATH)"
   ]
  },
  {
   "cell_type": "code",
   "execution_count": 4,
   "metadata": {},
   "outputs": [],
   "source": [
    "shooting = shooting_score(skaters, players)"
   ]
  },
  {
   "cell_type": "code",
   "execution_count": 5,
   "metadata": {},
   "outputs": [
    {
     "data": {
      "text/html": [
       "<div>\n",
       "<style scoped>\n",
       "    .dataframe tbody tr th:only-of-type {\n",
       "        vertical-align: middle;\n",
       "    }\n",
       "\n",
       "    .dataframe tbody tr th {\n",
       "        vertical-align: top;\n",
       "    }\n",
       "\n",
       "    .dataframe thead th {\n",
       "        text-align: right;\n",
       "    }\n",
       "</style>\n",
       "<table border=\"1\" class=\"dataframe\">\n",
       "  <thead>\n",
       "    <tr style=\"text-align: right;\">\n",
       "      <th></th>\n",
       "      <th>season</th>\n",
       "      <th>name</th>\n",
       "      <th>shooting_score</th>\n",
       "    </tr>\n",
       "  </thead>\n",
       "  <tbody>\n",
       "    <tr>\n",
       "      <th>307</th>\n",
       "      <td>2019</td>\n",
       "      <td>Artturi Lehkonen</td>\n",
       "      <td>61</td>\n",
       "    </tr>\n",
       "    <tr>\n",
       "      <th>337</th>\n",
       "      <td>2019</td>\n",
       "      <td>Ben Chiarot</td>\n",
       "      <td>56</td>\n",
       "    </tr>\n",
       "    <tr>\n",
       "      <th>480</th>\n",
       "      <td>2019</td>\n",
       "      <td>Brendan Gallagher</td>\n",
       "      <td>90</td>\n",
       "    </tr>\n",
       "    <tr>\n",
       "      <th>527</th>\n",
       "      <td>2019</td>\n",
       "      <td>Brett Kulak</td>\n",
       "      <td>31</td>\n",
       "    </tr>\n",
       "    <tr>\n",
       "      <th>857</th>\n",
       "      <td>2019</td>\n",
       "      <td>Corey Perry</td>\n",
       "      <td>44</td>\n",
       "    </tr>\n",
       "    <tr>\n",
       "      <th>1431</th>\n",
       "      <td>2019</td>\n",
       "      <td>Jake Evans</td>\n",
       "      <td>53</td>\n",
       "    </tr>\n",
       "    <tr>\n",
       "      <th>1595</th>\n",
       "      <td>2019</td>\n",
       "      <td>Jeff Petry</td>\n",
       "      <td>65</td>\n",
       "    </tr>\n",
       "    <tr>\n",
       "      <th>1618</th>\n",
       "      <td>2019</td>\n",
       "      <td>Jesperi Kotkaniemi</td>\n",
       "      <td>57</td>\n",
       "    </tr>\n",
       "    <tr>\n",
       "      <th>1660</th>\n",
       "      <td>2019</td>\n",
       "      <td>Joel Armia</td>\n",
       "      <td>76</td>\n",
       "    </tr>\n",
       "    <tr>\n",
       "      <th>1665</th>\n",
       "      <td>2019</td>\n",
       "      <td>Joel Edmundson</td>\n",
       "      <td>44</td>\n",
       "    </tr>\n",
       "    <tr>\n",
       "      <th>1752</th>\n",
       "      <td>2019</td>\n",
       "      <td>Jonathan Drouin</td>\n",
       "      <td>74</td>\n",
       "    </tr>\n",
       "    <tr>\n",
       "      <th>1834</th>\n",
       "      <td>2019</td>\n",
       "      <td>Josh Anderson</td>\n",
       "      <td>38</td>\n",
       "    </tr>\n",
       "    <tr>\n",
       "      <th>2675</th>\n",
       "      <td>2019</td>\n",
       "      <td>Nick Suzuki</td>\n",
       "      <td>60</td>\n",
       "    </tr>\n",
       "    <tr>\n",
       "      <th>2870</th>\n",
       "      <td>2019</td>\n",
       "      <td>Paul Byron</td>\n",
       "      <td>54</td>\n",
       "    </tr>\n",
       "    <tr>\n",
       "      <th>2914</th>\n",
       "      <td>2019</td>\n",
       "      <td>Phillip Danault</td>\n",
       "      <td>66</td>\n",
       "    </tr>\n",
       "    <tr>\n",
       "      <th>3267</th>\n",
       "      <td>2019</td>\n",
       "      <td>Shea Weber</td>\n",
       "      <td>75</td>\n",
       "    </tr>\n",
       "    <tr>\n",
       "      <th>3430</th>\n",
       "      <td>2019</td>\n",
       "      <td>Tomas Tatar</td>\n",
       "      <td>83</td>\n",
       "    </tr>\n",
       "    <tr>\n",
       "      <th>3555</th>\n",
       "      <td>2019</td>\n",
       "      <td>Tyler Toffoli</td>\n",
       "      <td>83</td>\n",
       "    </tr>\n",
       "    <tr>\n",
       "      <th>3672</th>\n",
       "      <td>2019</td>\n",
       "      <td>Xavier Ouellet</td>\n",
       "      <td>11</td>\n",
       "    </tr>\n",
       "    <tr>\n",
       "      <th>140</th>\n",
       "      <td>2020</td>\n",
       "      <td>Alexander Romanov</td>\n",
       "      <td>27</td>\n",
       "    </tr>\n",
       "    <tr>\n",
       "      <th>308</th>\n",
       "      <td>2020</td>\n",
       "      <td>Artturi Lehkonen</td>\n",
       "      <td>52</td>\n",
       "    </tr>\n",
       "    <tr>\n",
       "      <th>338</th>\n",
       "      <td>2020</td>\n",
       "      <td>Ben Chiarot</td>\n",
       "      <td>38</td>\n",
       "    </tr>\n",
       "    <tr>\n",
       "      <th>481</th>\n",
       "      <td>2020</td>\n",
       "      <td>Brendan Gallagher</td>\n",
       "      <td>89</td>\n",
       "    </tr>\n",
       "    <tr>\n",
       "      <th>528</th>\n",
       "      <td>2020</td>\n",
       "      <td>Brett Kulak</td>\n",
       "      <td>32</td>\n",
       "    </tr>\n",
       "    <tr>\n",
       "      <th>669</th>\n",
       "      <td>2020</td>\n",
       "      <td>Cedric Paquette</td>\n",
       "      <td>35</td>\n",
       "    </tr>\n",
       "    <tr>\n",
       "      <th>731</th>\n",
       "      <td>2020</td>\n",
       "      <td>Christian Dvorak</td>\n",
       "      <td>77</td>\n",
       "    </tr>\n",
       "    <tr>\n",
       "      <th>786</th>\n",
       "      <td>2020</td>\n",
       "      <td>Cole Caufield</td>\n",
       "      <td>83</td>\n",
       "    </tr>\n",
       "    <tr>\n",
       "      <th>959</th>\n",
       "      <td>2020</td>\n",
       "      <td>David Savard</td>\n",
       "      <td>27</td>\n",
       "    </tr>\n",
       "    <tr>\n",
       "      <th>1432</th>\n",
       "      <td>2020</td>\n",
       "      <td>Jake Evans</td>\n",
       "      <td>31</td>\n",
       "    </tr>\n",
       "    <tr>\n",
       "      <th>1596</th>\n",
       "      <td>2020</td>\n",
       "      <td>Jeff Petry</td>\n",
       "      <td>72</td>\n",
       "    </tr>\n",
       "    <tr>\n",
       "      <th>1661</th>\n",
       "      <td>2020</td>\n",
       "      <td>Joel Armia</td>\n",
       "      <td>61</td>\n",
       "    </tr>\n",
       "    <tr>\n",
       "      <th>1666</th>\n",
       "      <td>2020</td>\n",
       "      <td>Joel Edmundson</td>\n",
       "      <td>41</td>\n",
       "    </tr>\n",
       "    <tr>\n",
       "      <th>1753</th>\n",
       "      <td>2020</td>\n",
       "      <td>Jonathan Drouin</td>\n",
       "      <td>43</td>\n",
       "    </tr>\n",
       "    <tr>\n",
       "      <th>1835</th>\n",
       "      <td>2020</td>\n",
       "      <td>Josh Anderson</td>\n",
       "      <td>73</td>\n",
       "    </tr>\n",
       "    <tr>\n",
       "      <th>2285</th>\n",
       "      <td>2020</td>\n",
       "      <td>Mathieu Perreault</td>\n",
       "      <td>53</td>\n",
       "    </tr>\n",
       "    <tr>\n",
       "      <th>2499</th>\n",
       "      <td>2020</td>\n",
       "      <td>Mike Hoffman</td>\n",
       "      <td>81</td>\n",
       "    </tr>\n",
       "    <tr>\n",
       "      <th>2676</th>\n",
       "      <td>2020</td>\n",
       "      <td>Nick Suzuki</td>\n",
       "      <td>75</td>\n",
       "    </tr>\n",
       "    <tr>\n",
       "      <th>2871</th>\n",
       "      <td>2020</td>\n",
       "      <td>Paul Byron</td>\n",
       "      <td>42</td>\n",
       "    </tr>\n",
       "    <tr>\n",
       "      <th>3556</th>\n",
       "      <td>2020</td>\n",
       "      <td>Tyler Toffoli</td>\n",
       "      <td>91</td>\n",
       "    </tr>\n",
       "  </tbody>\n",
       "</table>\n",
       "</div>"
      ],
      "text/plain": [
       "      season                name  shooting_score\n",
       "307     2019    Artturi Lehkonen              61\n",
       "337     2019         Ben Chiarot              56\n",
       "480     2019   Brendan Gallagher              90\n",
       "527     2019         Brett Kulak              31\n",
       "857     2019         Corey Perry              44\n",
       "1431    2019          Jake Evans              53\n",
       "1595    2019          Jeff Petry              65\n",
       "1618    2019  Jesperi Kotkaniemi              57\n",
       "1660    2019          Joel Armia              76\n",
       "1665    2019      Joel Edmundson              44\n",
       "1752    2019     Jonathan Drouin              74\n",
       "1834    2019       Josh Anderson              38\n",
       "2675    2019         Nick Suzuki              60\n",
       "2870    2019          Paul Byron              54\n",
       "2914    2019     Phillip Danault              66\n",
       "3267    2019          Shea Weber              75\n",
       "3430    2019         Tomas Tatar              83\n",
       "3555    2019       Tyler Toffoli              83\n",
       "3672    2019      Xavier Ouellet              11\n",
       "140     2020   Alexander Romanov              27\n",
       "308     2020    Artturi Lehkonen              52\n",
       "338     2020         Ben Chiarot              38\n",
       "481     2020   Brendan Gallagher              89\n",
       "528     2020         Brett Kulak              32\n",
       "669     2020     Cedric Paquette              35\n",
       "731     2020    Christian Dvorak              77\n",
       "786     2020       Cole Caufield              83\n",
       "959     2020        David Savard              27\n",
       "1432    2020          Jake Evans              31\n",
       "1596    2020          Jeff Petry              72\n",
       "1661    2020          Joel Armia              61\n",
       "1666    2020      Joel Edmundson              41\n",
       "1753    2020     Jonathan Drouin              43\n",
       "1835    2020       Josh Anderson              73\n",
       "2285    2020   Mathieu Perreault              53\n",
       "2499    2020        Mike Hoffman              81\n",
       "2676    2020         Nick Suzuki              75\n",
       "2871    2020          Paul Byron              42\n",
       "3556    2020       Tyler Toffoli              91"
      ]
     },
     "execution_count": 5,
     "metadata": {},
     "output_type": "execute_result"
    }
   ],
   "source": [
    "shooting"
   ]
  },
  {
   "cell_type": "code",
   "execution_count": null,
   "metadata": {},
   "outputs": [],
   "source": [
    "shooting['adjusted_shooting'].apply(lambda x: int(x * 100))"
   ]
  },
  {
   "cell_type": "code",
   "execution_count": null,
   "metadata": {},
   "outputs": [],
   "source": [
    "# Shot algo\n",
    "skaters.columns.values"
   ]
  },
  {
   "cell_type": "code",
   "execution_count": null,
   "metadata": {},
   "outputs": [],
   "source": [
    "scores = skaters[['season', 'name']]"
   ]
  },
  {
   "cell_type": "code",
   "execution_count": null,
   "metadata": {},
   "outputs": [],
   "source": [
    "skaters['goal_pct'] = skaters['I_F_goals'] / skaters['OnIce_F_shotsOnGoal']\n",
    "skaters['goal_per_game'] = skaters['I_F_goals'] / skaters['games_played']\n",
    "skaters['shot_per_game'] = skaters['OnIce_F_shotsOnGoal'] / skaters['games_played']\n",
    "scores['shooting'] = skaters.groupby(\"season\")[['goal_per_game', 'shot_per_game', 'goal_pct']].rank(pct=True).mean(axis=1)\n",
    "#scores['adjusted_shooting'] = "
   ]
  },
  {
   "cell_type": "code",
   "execution_count": null,
   "metadata": {},
   "outputs": [],
   "source": [
    "adjusted_shooting = scores.groupby([\"name\"])['shooting'].ewm(com=0.2).mean().to_frame().reset_index().drop(\"level_1\", axis=1)"
   ]
  },
  {
   "cell_type": "code",
   "execution_count": null,
   "metadata": {},
   "outputs": [],
   "source": [
    "adjusted_shooting.columns = ['name_x', 'adjusted_shooting']"
   ]
  },
  {
   "cell_type": "code",
   "execution_count": null,
   "metadata": {},
   "outputs": [],
   "source": [
    "scores = pd.concat([scores, adjusted_shooting], axis=1)\n",
    "scores.drop([\"name_x\", \"shooting\"], axis=1, inplace=True)\n",
    "#pd.merge(scores, adjusted_shooting, on=['name', 'season'], how='left').query(\"name == 'Frans Nielsen'\")"
   ]
  },
  {
   "cell_type": "code",
   "execution_count": null,
   "metadata": {},
   "outputs": [],
   "source": [
    "scores.query(\"name == 'Cole Caufield'\")"
   ]
  },
  {
   "cell_type": "code",
   "execution_count": null,
   "metadata": {},
   "outputs": [],
   "source": [
    "skaters.query(\"name=='Cole Caufield'\")[['OnIce_F_shotsOnGoal', 'I_F_goals', 'goal_pct', 'games_played']]"
   ]
  },
  {
   "cell_type": "code",
   "execution_count": null,
   "metadata": {},
   "outputs": [],
   "source": [
    "scores.sort_values(\"adjusted_shooting\", ascending=False).head(10)"
   ]
  },
  {
   "cell_type": "code",
   "execution_count": null,
   "metadata": {},
   "outputs": [],
   "source": [
    "mtl2020 = scores.loc[scores['name'].apply(lambda x: x in players['2020']), :].query('season==2019')\n",
    "mtl2021 = scores.loc[scores['name'].apply(lambda x: x in players['2021']), :].query('season==2020')"
   ]
  },
  {
   "cell_type": "code",
   "execution_count": null,
   "metadata": {},
   "outputs": [],
   "source": [
    "mtl2020.sort_values(\"adjusted_shooting\")"
   ]
  },
  {
   "cell_type": "code",
   "execution_count": null,
   "metadata": {},
   "outputs": [],
   "source": [
    "mtl2021.sort_values(\"adjusted_shooting\")"
   ]
  },
  {
   "cell_type": "code",
   "execution_count": null,
   "metadata": {},
   "outputs": [],
   "source": []
  },
  {
   "cell_type": "code",
   "execution_count": null,
   "metadata": {},
   "outputs": [],
   "source": []
  },
  {
   "cell_type": "code",
   "execution_count": null,
   "metadata": {},
   "outputs": [],
   "source": []
  }
 ],
 "metadata": {
  "interpreter": {
   "hash": "5edc29c2ed010d6458d71a83433b383a96a8cbd3efe8531bc90c4b8a5b8bcec9"
  },
  "kernelspec": {
   "display_name": "Python 3.8.2 64-bit",
   "name": "python3"
  },
  "language_info": {
   "codemirror_mode": {
    "name": "ipython",
    "version": 3
   },
   "file_extension": ".py",
   "mimetype": "text/x-python",
   "name": "python",
   "nbconvert_exporter": "python",
   "pygments_lexer": "ipython3",
   "version": "3.9.4"
  },
  "orig_nbformat": 4
 },
 "nbformat": 4,
 "nbformat_minor": 2
}